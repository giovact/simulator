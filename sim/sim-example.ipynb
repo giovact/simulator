{
 "cells": [
  {
   "cell_type": "markdown",
   "metadata": {},
   "source": [
    "# Example Scenario\n",
    "\n",
    "This notebook contains an example setup to run experiments as done in the [paper](https://arxiv.org/abs/2004.07641).\n",
    "\n",
    "As we are in the process of significantly refactoring the code base and experiments, we did not update the entire experiment notebook done to reproduce the paper experiments, as they are now deprecated.\n",
    "\n",
    "__If you want to play around and reproduce results currently shown in the arXiv paper, revert to commit__\n",
    "`28b14a1dca53e12573eabf99317b2c7517c81761`\n",
    "\n",
    "The notebook is organized as follows:\n",
    "\n",
    "* In Section 1, we define all the simulation parameters.\n",
    "* In Section 2, we run all the simulations needed for the experiment.\n",
    "* In Section 3, we plot the results.\n",
    "\n",
    "To just regenerate the figures from a summary file containing all the simulation objects of the experiment, you can skip Section 2, and only run the cells in Sections 1 & 3. \n",
    "\n",
    "---"
   ]
  },
  {
   "cell_type": "markdown",
   "metadata": {},
   "source": [
    "**Import libs**"
   ]
  },
  {
   "cell_type": "code",
   "execution_count": null,
   "metadata": {},
   "outputs": [],
   "source": [
    "%load_ext autoreload\n",
    "%autoreload 2\n",
    "import sys, os\n",
    "if '..' not in sys.path:\n",
    "    sys.path.append('..')"
   ]
  },
  {
   "cell_type": "code",
   "execution_count": null,
   "metadata": {},
   "outputs": [],
   "source": [
    "import numpy as np\n",
    "import random as rd\n",
    "import pandas as pd\n",
    "import pickle\n",
    "import multiprocessing\n",
    "import argparse\n",
    "from lib.measures import *\n",
    "from lib.experiment import Experiment, options_to_str, process_command_line\n",
    "from lib.calibrationSettings import calibration_lockdown_dates, calibration_mob_paths, calibration_states, calibration_lockdown_beta_multipliers\n",
    "from lib.calibrationFunctions import get_calibrated_params\n",
    "\n",
    "import matplotlib.pyplot as plt\n",
    "from lib.plot import Plotter\n",
    "%matplotlib inline\n",
    "\n",
    "# converting days to hours\n",
    "TO_HOURS = 24.0"
   ]
  },
  {
   "cell_type": "markdown",
   "metadata": {},
   "source": [
    "## 1. Define the experiment parameters"
   ]
  },
  {
   "cell_type": "code",
   "execution_count": null,
   "metadata": {},
   "outputs": [],
   "source": [
    "name = 'example-experiment'\n",
    "\n",
    "country = 'GER'\n",
    "area = 'TU'\n",
    "start_date = '2020-07-01'\n",
    "end_date = '2020-07-31'\n",
    "\n",
    "random_repeats = 6 # recommended to set to at least 48  \n",
    "full_scale = False\n",
    "\n",
    "# seed\n",
    "c = 0\n",
    "np.random.seed(c)\n",
    "rd.seed(c)"
   ]
  },
  {
   "cell_type": "markdown",
   "metadata": {},
   "source": [
    "The model parameters should be calibrated using Bayesian optimization. \n",
    "Run `python calibrate.py --help` to see how to use the calibration script. Also, refer to `calibrationSettings.py` for detailed settings and automatic loading of results."
   ]
  },
  {
   "cell_type": "code",
   "execution_count": null,
   "metadata": {},
   "outputs": [],
   "source": [
    "arbitrary_model_params = {\n",
    "    'beta_site' :  0.8,      # risk of exposure at sites\n",
    "    'beta_household' : 0.8,  # risk of exposure at home\n",
    "    'p_stay_home' : 0.5,     # probability of not attending a given visit to a site due to social distancing\n",
    "}"
   ]
  },
  {
   "cell_type": "markdown",
   "metadata": {},
   "source": [
    "#### Define Experiment object"
   ]
  },
  {
   "cell_type": "code",
   "execution_count": null,
   "metadata": {},
   "outputs": [],
   "source": [
    "experiment_info = f'{name}-{country}-{area}'\n",
    "experiment = Experiment(\n",
    "    experiment_info=experiment_info,\n",
    "    start_date=start_date,\n",
    "    end_date=end_date,\n",
    "    random_repeats=random_repeats,\n",
    "    full_scale=full_scale,\n",
    "    verbose=True,\n",
    ")"
   ]
  },
  {
   "cell_type": "markdown",
   "metadata": {},
   "source": [
    "#### Define Measures to take place during simulation.\n",
    "See `measures.py` for other options."
   ]
  },
  {
   "cell_type": "code",
   "execution_count": null,
   "metadata": {},
   "outputs": [],
   "source": [
    "lockdown_at_day = 14\n",
    "\n",
    "sim_days = (pd.to_datetime(end_date) - pd.to_datetime(start_date)).days\n",
    "max_time = TO_HOURS * sim_days # in hours\n",
    "\n",
    "example_measures = [\n",
    "    \n",
    "    # education, social sites, and offices partially closed/reduced infection after 1 week\n",
    "    BetaMultiplierMeasureByType(\n",
    "        t_window=Interval(lockdown_at_day * TO_HOURS, max_time), \n",
    "        beta_multiplier={ \n",
    "            'education': 0.5, \n",
    "            'social': 0.5, \n",
    "            'bus_stop': 1.0, \n",
    "            'office': 0.5, \n",
    "            'supermarket': 1.0\n",
    "        }),\n",
    "    \n",
    "    # less activities of all due to contact constraints after 14 days\n",
    "    SocialDistancingForAllMeasure(\n",
    "     t_window=Interval(lockdown_at_day * TO_HOURS, max_time), \n",
    "        p_stay_home=arbitrary_model_params['p_stay_home'])\n",
    "]\n"
   ]
  },
  {
   "cell_type": "markdown",
   "metadata": {},
   "source": [
    "#### Add Simulation to experiment"
   ]
  },
  {
   "cell_type": "code",
   "execution_count": null,
   "metadata": {},
   "outputs": [],
   "source": [
    "simulation_info = options_to_str(\n",
    "    descr='example-simulation',\n",
    ")\n",
    "\n",
    "experiment.add(\n",
    "    simulation_info=simulation_info,\n",
    "    country=country,\n",
    "    area=area,\n",
    "    measure_list=example_measures,\n",
    "    set_calibrated_params_to=arbitrary_model_params,\n",
    "    full_scale=full_scale,\n",
    "    test_update=None,\n",
    "    seed_summary_path=None,\n",
    "    set_initial_seeds_to=None)\n",
    "\n",
    "print(f'{experiment_info} configuration done.')"
   ]
  },
  {
   "cell_type": "markdown",
   "metadata": {},
   "source": [
    "## 2. Run the simulations"
   ]
  },
  {
   "cell_type": "markdown",
   "metadata": {},
   "source": [
    "Run the experiment using the parameters defined above and simulate in the future, with additional measures of varying duration.\n",
    "\n",
    "**WARNING: this cell might take a long time to run depending of the parameters defined above**"
   ]
  },
  {
   "cell_type": "code",
   "execution_count": null,
   "metadata": {},
   "outputs": [],
   "source": [
    "experiment.run_all()\n"
   ]
  },
  {
   "cell_type": "markdown",
   "metadata": {},
   "source": [
    "## 3. Plot the results"
   ]
  },
  {
   "cell_type": "markdown",
   "metadata": {},
   "source": [
    "Refer to `sim-plot.ipynb` for plotting. The results of the above experiment are stored inside the `sim/summaries/` folder of the repository."
   ]
  },
  {
   "cell_type": "code",
   "execution_count": null,
   "metadata": {},
   "outputs": [],
   "source": []
  },
  {
   "cell_type": "code",
   "execution_count": null,
   "metadata": {},
   "outputs": [],
   "source": []
  }
 ],
 "metadata": {
  "kernelspec": {
   "display_name": "Python 3",
   "language": "python",
   "name": "python3"
  },
  "language_info": {
   "codemirror_mode": {
    "name": "ipython",
    "version": 3
   },
   "file_extension": ".py",
   "mimetype": "text/x-python",
   "name": "python",
   "nbconvert_exporter": "python",
   "pygments_lexer": "ipython3",
   "version": "3.7.9"
  }
 },
 "nbformat": 4,
 "nbformat_minor": 4
}
